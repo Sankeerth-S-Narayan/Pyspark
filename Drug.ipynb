{
 "cells": [
  {
   "cell_type": "code",
   "execution_count": 1,
   "id": "a2fa5ab0",
   "metadata": {},
   "outputs": [
    {
     "name": "stdout",
     "output_type": "stream",
     "text": [
      "[('numpy', '1.20.3'), ('pandas', '1.3.4'), ('pyspark', '3.2.1')]\n"
     ]
    },
    {
     "name": "stderr",
     "output_type": "stream",
     "text": [
      "C:\\Users\\sanke\\Anaconda3\\lib\\site-packages\\pyspark\\sql\\context.py:77: FutureWarning: Deprecated in 3.0.0. Use SparkSession.builder.getOrCreate() instead.\n",
      "  warnings.warn(\n"
     ]
    }
   ],
   "source": [
    "import numpy as np\n",
    "import pandas as pd\n",
    "import pyspark\n",
    "from pyspark import SparkConf, SparkContext, SQLContext\n",
    "from pyspark.sql import SparkSession\n",
    "from pyspark.sql.functions import udf # @udf(\"integer\") def myfunc(x,y): return x - y\n",
    "from pyspark.sql import functions as F # stddev format_number date_format, dayofyear, when\n",
    "from pyspark.sql.types import StructField, StringType, IntegerType, StructType\n",
    "\n",
    "print([(x.__name__,x.__version__) for x in [np, pd, pyspark]])\n",
    "\n",
    "spark = pyspark.sql.SparkSession.builder.appName('Drug').getOrCreate()\n",
    "sc = spark.sparkContext\n",
    "sqlContext = SQLContext(sc)\n",
    "sc.setLogLevel(\"INFO\")"
   ]
  },
  {
   "cell_type": "code",
   "execution_count": 2,
   "id": "40de6abd",
   "metadata": {},
   "outputs": [],
   "source": [
    "from pyspark.ml.feature import (VectorAssembler, VectorIndexer,\n",
    "                               OneHotEncoder, StringIndexer)\n",
    "\n",
    "from pyspark.ml.classification import LogisticRegression\n",
    "from pyspark.ml import Pipeline\n",
    "\n",
    "from pyspark.ml.evaluation import BinaryClassificationEvaluator"
   ]
  },
  {
   "cell_type": "code",
   "execution_count": 3,
   "id": "64eeb891",
   "metadata": {},
   "outputs": [
    {
     "name": "stdout",
     "output_type": "stream",
     "text": [
      "200\n",
      "+---+---+---+------+-----------+-------+----+\n",
      "|_c0|Age|Sex|    BP|Cholesterol|Na_to_K|Drug|\n",
      "+---+---+---+------+-----------+-------+----+\n",
      "|  0| 23|  F|  HIGH|       HIGH| 25.355|   0|\n",
      "|  1| 47|  M|   LOW|       HIGH| 13.093|   3|\n",
      "|  2| 47|  M|   LOW|       HIGH| 10.114|   3|\n",
      "|  3| 28|  F|NORMAL|       HIGH|  7.798|   4|\n",
      "|  4| 61|  F|   LOW|       HIGH| 18.043|   0|\n",
      "|  5| 22|  F|NORMAL|       HIGH|  8.607|   4|\n",
      "|  6| 49|  F|NORMAL|       HIGH| 16.275|   0|\n",
      "|  7| 41|  M|   LOW|       HIGH| 11.037|   3|\n",
      "|  8| 60|  M|NORMAL|       HIGH| 15.171|   0|\n",
      "|  9| 43|  M|   LOW|     NORMAL| 19.368|   0|\n",
      "| 10| 47|  F|   LOW|       HIGH| 11.767|   3|\n",
      "| 11| 34|  F|  HIGH|     NORMAL| 19.199|   0|\n",
      "| 12| 43|  M|   LOW|       HIGH| 15.376|   0|\n",
      "| 13| 74|  F|   LOW|       HIGH| 20.942|   0|\n",
      "| 14| 50|  F|NORMAL|       HIGH| 12.703|   4|\n",
      "| 15| 16|  F|  HIGH|     NORMAL| 15.516|   0|\n",
      "| 16| 69|  M|   LOW|     NORMAL| 11.455|   4|\n",
      "| 17| 43|  M|  HIGH|       HIGH| 13.972|   1|\n",
      "| 18| 23|  M|   LOW|       HIGH|  7.298|   3|\n",
      "| 19| 32|  F|  HIGH|     NORMAL| 25.974|   0|\n",
      "+---+---+---+------+-----------+-------+----+\n",
      "only showing top 20 rows\n",
      "\n"
     ]
    }
   ],
   "source": [
    "df = spark.read.csv('Drug.csv',header=True,inferSchema=True)\n",
    "print(df.count())\n",
    "df.show()"
   ]
  },
  {
   "cell_type": "code",
   "execution_count": 4,
   "id": "3530331d",
   "metadata": {},
   "outputs": [
    {
     "name": "stdout",
     "output_type": "stream",
     "text": [
      "root\n",
      " |-- _c0: integer (nullable = true)\n",
      " |-- Age: integer (nullable = true)\n",
      " |-- Sex: string (nullable = true)\n",
      " |-- BP: string (nullable = true)\n",
      " |-- Cholesterol: string (nullable = true)\n",
      " |-- Na_to_K: double (nullable = true)\n",
      " |-- Drug: integer (nullable = true)\n",
      "\n"
     ]
    }
   ],
   "source": [
    "df.printSchema()"
   ]
  },
  {
   "cell_type": "code",
   "execution_count": 5,
   "id": "e4221c87",
   "metadata": {},
   "outputs": [
    {
     "data": {
      "text/html": [
       "<div>\n",
       "<style scoped>\n",
       "    .dataframe tbody tr th:only-of-type {\n",
       "        vertical-align: middle;\n",
       "    }\n",
       "\n",
       "    .dataframe tbody tr th {\n",
       "        vertical-align: top;\n",
       "    }\n",
       "\n",
       "    .dataframe thead th {\n",
       "        text-align: right;\n",
       "    }\n",
       "</style>\n",
       "<table border=\"1\" class=\"dataframe\">\n",
       "  <thead>\n",
       "    <tr style=\"text-align: right;\">\n",
       "      <th></th>\n",
       "      <th>0</th>\n",
       "      <th>1</th>\n",
       "      <th>2</th>\n",
       "      <th>3</th>\n",
       "      <th>4</th>\n",
       "    </tr>\n",
       "  </thead>\n",
       "  <tbody>\n",
       "    <tr>\n",
       "      <th>summary</th>\n",
       "      <td>count</td>\n",
       "      <td>mean</td>\n",
       "      <td>stddev</td>\n",
       "      <td>min</td>\n",
       "      <td>max</td>\n",
       "    </tr>\n",
       "    <tr>\n",
       "      <th>_c0</th>\n",
       "      <td>200</td>\n",
       "      <td>99.5</td>\n",
       "      <td>57.879184513951124</td>\n",
       "      <td>0</td>\n",
       "      <td>199</td>\n",
       "    </tr>\n",
       "    <tr>\n",
       "      <th>Age</th>\n",
       "      <td>200</td>\n",
       "      <td>44.315</td>\n",
       "      <td>16.544314634751974</td>\n",
       "      <td>15</td>\n",
       "      <td>74</td>\n",
       "    </tr>\n",
       "    <tr>\n",
       "      <th>Sex</th>\n",
       "      <td>200</td>\n",
       "      <td>None</td>\n",
       "      <td>None</td>\n",
       "      <td>F</td>\n",
       "      <td>M</td>\n",
       "    </tr>\n",
       "    <tr>\n",
       "      <th>BP</th>\n",
       "      <td>200</td>\n",
       "      <td>None</td>\n",
       "      <td>None</td>\n",
       "      <td>HIGH</td>\n",
       "      <td>NORMAL</td>\n",
       "    </tr>\n",
       "    <tr>\n",
       "      <th>Cholesterol</th>\n",
       "      <td>200</td>\n",
       "      <td>None</td>\n",
       "      <td>None</td>\n",
       "      <td>HIGH</td>\n",
       "      <td>NORMAL</td>\n",
       "    </tr>\n",
       "    <tr>\n",
       "      <th>Na_to_K</th>\n",
       "      <td>200</td>\n",
       "      <td>16.08448499999999</td>\n",
       "      <td>7.223955528459517</td>\n",
       "      <td>6.269</td>\n",
       "      <td>38.247</td>\n",
       "    </tr>\n",
       "    <tr>\n",
       "      <th>Drug</th>\n",
       "      <td>200</td>\n",
       "      <td>1.595</td>\n",
       "      <td>1.7163051936027987</td>\n",
       "      <td>0</td>\n",
       "      <td>4</td>\n",
       "    </tr>\n",
       "  </tbody>\n",
       "</table>\n",
       "</div>"
      ],
      "text/plain": [
       "                 0                  1                   2      3       4\n",
       "summary      count               mean              stddev    min     max\n",
       "_c0            200               99.5  57.879184513951124      0     199\n",
       "Age            200             44.315  16.544314634751974     15      74\n",
       "Sex            200               None                None      F       M\n",
       "BP             200               None                None   HIGH  NORMAL\n",
       "Cholesterol    200               None                None   HIGH  NORMAL\n",
       "Na_to_K        200  16.08448499999999   7.223955528459517  6.269  38.247\n",
       "Drug           200              1.595  1.7163051936027987      0       4"
      ]
     },
     "execution_count": 5,
     "metadata": {},
     "output_type": "execute_result"
    }
   ],
   "source": [
    "df.describe().toPandas().transpose()\n"
   ]
  },
  {
   "cell_type": "code",
   "execution_count": 6,
   "id": "e3b74fe4",
   "metadata": {},
   "outputs": [
    {
     "name": "stdout",
     "output_type": "stream",
     "text": [
      "+---+---+---+---+-----------+-------+----+\n",
      "|_c0|Age|Sex| BP|Cholesterol|Na_to_K|Drug|\n",
      "+---+---+---+---+-----------+-------+----+\n",
      "|  0|  0|  0|  0|          0|      0|   0|\n",
      "+---+---+---+---+-----------+-------+----+\n",
      "\n"
     ]
    }
   ],
   "source": [
    "from pyspark.sql.functions import isnull, when, count, col\n",
    "df.select([count(when(isnull(c), c)).alias(c) for c in df.columns]).show()"
   ]
  },
  {
   "cell_type": "code",
   "execution_count": 7,
   "id": "70befcd5",
   "metadata": {},
   "outputs": [],
   "source": [
    "from pyspark.ml.feature import (VectorAssembler, VectorIndexer,\n",
    "                               OneHotEncoder, StringIndexer)"
   ]
  },
  {
   "cell_type": "code",
   "execution_count": 8,
   "id": "ea6e97db",
   "metadata": {},
   "outputs": [],
   "source": [
    "Sex_indexer = StringIndexer(inputCol='Sex', outputCol='Sex_index')\n",
    "Sex_encoder = OneHotEncoder(inputCol='Sex_index', outputCol='Sex_vec')"
   ]
  },
  {
   "cell_type": "code",
   "execution_count": 9,
   "id": "548ae4ae",
   "metadata": {},
   "outputs": [],
   "source": [
    "BP_indexer = StringIndexer(inputCol='BP', outputCol='BP_index')\n",
    "BP_encoder = OneHotEncoder(inputCol='BP_index', outputCol='BP_vec')"
   ]
  },
  {
   "cell_type": "code",
   "execution_count": 17,
   "id": "d808c173",
   "metadata": {},
   "outputs": [],
   "source": [
    "Cholestero_indexer = StringIndexer(inputCol='Cholesterol', outputCol='Cholestero_index')\n",
    "Cholestero_encoder = OneHotEncoder(inputCol='Cholestero_index', outputCol='Cholestero_vec')"
   ]
  },
  {
   "cell_type": "code",
   "execution_count": 18,
   "id": "a31b6d14",
   "metadata": {},
   "outputs": [],
   "source": [
    "assembler = VectorAssembler(inputCols=['Age','Sex_vec','BP_vec',\n",
    "                                      'Cholestero_vec','Na_to_K'],\n",
    "                           outputCol='features')\n"
   ]
  },
  {
   "cell_type": "markdown",
   "id": "9ff62b9c",
   "metadata": {},
   "source": [
    "## Logistic Regression"
   ]
  },
  {
   "cell_type": "code",
   "execution_count": 19,
   "id": "92787cc2",
   "metadata": {},
   "outputs": [],
   "source": [
    "from pyspark.ml.classification import LogisticRegression\n",
    "from pyspark.ml import Pipeline\n"
   ]
  },
  {
   "cell_type": "code",
   "execution_count": 40,
   "id": "cb977fe3",
   "metadata": {},
   "outputs": [],
   "source": [
    "lr = LogisticRegression(featuresCol='features',labelCol='Drug')"
   ]
  },
  {
   "cell_type": "code",
   "execution_count": 41,
   "id": "1cff778a",
   "metadata": {},
   "outputs": [],
   "source": [
    "pipeline = Pipeline(stages=[Sex_indexer, Sex_encoder,\n",
    "                           BP_indexer, BP_encoder,Cholestero_indexer,Cholestero_encoder,\n",
    "                           assembler, lr])"
   ]
  },
  {
   "cell_type": "code",
   "execution_count": 42,
   "id": "0a555d83",
   "metadata": {},
   "outputs": [],
   "source": [
    "train, test = df.randomSplit([0.7, 0.3])"
   ]
  },
  {
   "cell_type": "code",
   "execution_count": 43,
   "id": "d7f763f0",
   "metadata": {},
   "outputs": [],
   "source": [
    "lr_model = pipeline.fit(train)"
   ]
  },
  {
   "cell_type": "code",
   "execution_count": 44,
   "id": "8d3b9b8d",
   "metadata": {},
   "outputs": [
    {
     "name": "stdout",
     "output_type": "stream",
     "text": [
      "+---+---+---+----+-----------+-------+----+---------+-------------+--------+-------------+----------------+--------------+--------------------+--------------------+--------------------+----------+\n",
      "|_c0|Age|Sex|  BP|Cholesterol|Na_to_K|Drug|Sex_index|      Sex_vec|BP_index|       BP_vec|Cholestero_index|Cholestero_vec|            features|       rawPrediction|         probability|prediction|\n",
      "+---+---+---+----+-----------+-------+----+---------+-------------+--------+-------------+----------------+--------------+--------------------+--------------------+--------------------+----------+\n",
      "|  2| 47|  M| LOW|       HIGH| 10.114|   3|      0.0|(1,[0],[1.0])|     1.0|(2,[1],[1.0])|             0.0| (1,[0],[1.0])|[47.0,1.0,0.0,1.0...|[-47.177738669328...|[4.79624393829567...|       3.0|\n",
      "|  7| 41|  M| LOW|       HIGH| 11.037|   3|      0.0|(1,[0],[1.0])|     1.0|(2,[1],[1.0])|             0.0| (1,[0],[1.0])|[41.0,1.0,0.0,1.0...|[-21.883900054816...|[5.54046308349572...|       3.0|\n",
      "| 10| 47|  F| LOW|       HIGH| 11.767|   3|      1.0|    (1,[],[])|     1.0|(2,[1],[1.0])|             0.0| (1,[0],[1.0])|[47.0,0.0,0.0,1.0...|[-17.385481428067...|[2.42216427931635...|       3.0|\n",
      "| 20| 57|  M| LOW|     NORMAL| 19.128|   0|      0.0|(1,[0],[1.0])|     1.0|(2,[1],[1.0])|             1.0|     (1,[],[])|[57.0,1.0,0.0,1.0...|[191.395601722028...|[1.0,4.5065958013...|       0.0|\n",
      "| 25| 28|  F|HIGH|     NORMAL| 18.809|   0|      1.0|    (1,[],[])|     0.0|(2,[0],[1.0])|             1.0|     (1,[],[])|[28.0,0.0,1.0,0.0...|[191.278788541126...|[1.0,2.7413866549...|       0.0|\n",
      "+---+---+---+----+-----------+-------+----+---------+-------------+--------+-------------+----------------+--------------+--------------------+--------------------+--------------------+----------+\n",
      "only showing top 5 rows\n",
      "\n"
     ]
    }
   ],
   "source": [
    "results = lr_model.transform(test)\n",
    "results.show(5)"
   ]
  },
  {
   "cell_type": "code",
   "execution_count": 45,
   "id": "893ed0ac",
   "metadata": {},
   "outputs": [],
   "source": [
    "\n",
    "from pyspark.ml.evaluation import MulticlassClassificationEvaluator"
   ]
  },
  {
   "cell_type": "code",
   "execution_count": 47,
   "id": "61bf87e1",
   "metadata": {},
   "outputs": [],
   "source": [
    "my_eval = MulticlassClassificationEvaluator(predictionCol='prediction',\n",
    "                                       labelCol='Drug')"
   ]
  },
  {
   "cell_type": "code",
   "execution_count": 48,
   "id": "cc295b47",
   "metadata": {},
   "outputs": [
    {
     "name": "stdout",
     "output_type": "stream",
     "text": [
      "+----+----------+\n",
      "|Drug|prediction|\n",
      "+----+----------+\n",
      "|   3|       3.0|\n",
      "|   3|       3.0|\n",
      "|   3|       3.0|\n",
      "|   0|       0.0|\n",
      "|   0|       0.0|\n",
      "|   0|       0.0|\n",
      "|   4|       4.0|\n",
      "|   1|       1.0|\n",
      "|   4|       4.0|\n",
      "|   2|       2.0|\n",
      "|   4|       4.0|\n",
      "|   1|       1.0|\n",
      "|   0|       0.0|\n",
      "|   0|       0.0|\n",
      "|   0|       0.0|\n",
      "|   4|       4.0|\n",
      "|   1|       1.0|\n",
      "|   2|       2.0|\n",
      "|   4|       4.0|\n",
      "|   1|       1.0|\n",
      "+----+----------+\n",
      "only showing top 20 rows\n",
      "\n"
     ]
    }
   ],
   "source": [
    "results.select('Drug','prediction').show()"
   ]
  },
  {
   "cell_type": "code",
   "execution_count": 49,
   "id": "1546b8b4",
   "metadata": {},
   "outputs": [
    {
     "data": {
      "text/plain": [
       "0.9587737127371274"
      ]
     },
     "execution_count": 49,
     "metadata": {},
     "output_type": "execute_result"
    }
   ],
   "source": [
    "auc = my_eval.evaluate(results)\n",
    "auc"
   ]
  },
  {
   "cell_type": "markdown",
   "id": "e34f451e",
   "metadata": {},
   "source": [
    "## Random Forest"
   ]
  },
  {
   "cell_type": "code",
   "execution_count": 52,
   "id": "bc33f083",
   "metadata": {},
   "outputs": [],
   "source": [
    "from pyspark.ml.classification import RandomForestClassifier\n",
    "rf = RandomForestClassifier(predictionCol='prediction',labelCol='Drug',numTrees=20, maxDepth=20)"
   ]
  },
  {
   "cell_type": "code",
   "execution_count": 54,
   "id": "0c4603cd",
   "metadata": {},
   "outputs": [],
   "source": [
    "pipeline = Pipeline(stages=[Sex_indexer, Sex_encoder,\n",
    "                           BP_indexer, BP_encoder,Cholestero_indexer,Cholestero_encoder,\n",
    "                           assembler, rf])"
   ]
  },
  {
   "cell_type": "code",
   "execution_count": 55,
   "id": "5de85bea",
   "metadata": {},
   "outputs": [],
   "source": [
    "rf_model = pipeline.fit(train)"
   ]
  },
  {
   "cell_type": "code",
   "execution_count": 56,
   "id": "8ca068b0",
   "metadata": {},
   "outputs": [],
   "source": [
    "results = rf_model.transform(test)"
   ]
  },
  {
   "cell_type": "code",
   "execution_count": 58,
   "id": "3d8c1773",
   "metadata": {},
   "outputs": [
    {
     "name": "stdout",
     "output_type": "stream",
     "text": [
      "+----+----------+\n",
      "|Drug|prediction|\n",
      "+----+----------+\n",
      "|   3|       3.0|\n",
      "|   3|       3.0|\n",
      "|   3|       3.0|\n",
      "|   0|       0.0|\n",
      "|   0|       0.0|\n",
      "|   0|       0.0|\n",
      "|   4|       4.0|\n",
      "|   1|       1.0|\n",
      "|   4|       4.0|\n",
      "|   2|       2.0|\n",
      "|   4|       4.0|\n",
      "|   1|       1.0|\n",
      "|   0|       0.0|\n",
      "|   0|       0.0|\n",
      "|   0|       0.0|\n",
      "|   4|       4.0|\n",
      "|   1|       1.0|\n",
      "|   2|       2.0|\n",
      "|   4|       4.0|\n",
      "|   1|       1.0|\n",
      "+----+----------+\n",
      "only showing top 20 rows\n",
      "\n"
     ]
    }
   ],
   "source": [
    "results.select('Drug','prediction').show()"
   ]
  },
  {
   "cell_type": "code",
   "execution_count": 59,
   "id": "cb395193",
   "metadata": {},
   "outputs": [
    {
     "data": {
      "text/plain": [
       "1.0"
      ]
     },
     "execution_count": 59,
     "metadata": {},
     "output_type": "execute_result"
    }
   ],
   "source": [
    "auc = my_eval.evaluate(results)\n",
    "auc"
   ]
  },
  {
   "cell_type": "code",
   "execution_count": null,
   "id": "87b38500",
   "metadata": {},
   "outputs": [],
   "source": []
  }
 ],
 "metadata": {
  "kernelspec": {
   "display_name": "Python 3 (ipykernel)",
   "language": "python",
   "name": "python3"
  },
  "language_info": {
   "codemirror_mode": {
    "name": "ipython",
    "version": 3
   },
   "file_extension": ".py",
   "mimetype": "text/x-python",
   "name": "python",
   "nbconvert_exporter": "python",
   "pygments_lexer": "ipython3",
   "version": "3.9.7"
  }
 },
 "nbformat": 4,
 "nbformat_minor": 5
}
